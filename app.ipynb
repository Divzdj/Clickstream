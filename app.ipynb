{
  "nbformat": 4,
  "nbformat_minor": 0,
  "metadata": {
    "colab": {
      "provenance": []
    },
    "kernelspec": {
      "name": "python3",
      "display_name": "Python 3"
    },
    "language_info": {
      "name": "python"
    }
  },
  "cells": [
    {
      "cell_type": "code",
      "source": [
        "#!pip install streamlit pyngrok scikit-learn seaborn\n",
        "\n"
      ],
      "metadata": {
        "id": "Ylg_9hlk7-ex"
      },
      "execution_count": 2,
      "outputs": []
    },
    {
      "cell_type": "code",
      "execution_count": 3,
      "metadata": {
        "colab": {
          "base_uri": "https://localhost:8080/"
        },
        "id": "P51aHZIkiZKE",
        "outputId": "23964489-4fd7-4a56-876e-59db6763bbb8"
      },
      "outputs": [
        {
          "output_type": "stream",
          "name": "stdout",
          "text": [
            "Overwriting /content/drive/MyDrive/GUVI/Miniproject4/app.py\n"
          ]
        }
      ],
      "source": [
        "%%writefile /content/drive/MyDrive/GUVI/Miniproject4/app.py\n",
        "\n",
        "import streamlit as st\n",
        "import pandas as pd\n",
        "import numpy as np\n",
        "import pickle\n",
        "import matplotlib.pyplot as plt\n",
        "import seaborn as sns\n",
        "import cloudpickle\n",
        "\n",
        "# Load models with cloudpickle\n",
        "with open(\"best_classifier.pkl\", \"rb\") as f:\n",
        "    classifier = cloudpickle.load(f)\n",
        "\n",
        "with open(\"best_regressor.pkl\", \"rb\") as f:\n",
        "    regressor = cloudpickle.load(f)\n",
        "\n",
        "with open(\"kmeans_model.pkl\", \"rb\") as f:\n",
        "    kmeans_model = cloudpickle.load(f)\n",
        "\n",
        "\n",
        "st.set_page_config(page_title=\"Customer Analytics App\", layout=\"wide\")\n",
        "\n",
        "st.title(\"📊 Customer Analytics Web Application\")\n",
        "\n",
        "st.sidebar.header(\"Upload / Input Data\")\n",
        "\n",
        "# =====================\n",
        "# Data Upload Section\n",
        "# =====================\n",
        "uploaded_file = st.sidebar.file_uploader(\"Upload a CSV file\", type=[\"csv\"])\n",
        "manual_input = st.sidebar.checkbox(\"Enter data manually\")\n",
        "\n",
        "if uploaded_file:\n",
        "    df = pd.read_csv(uploaded_file)\n",
        "    st.success(\"CSV file uploaded successfully!\")\n",
        "elif manual_input:\n",
        "    st.sidebar.write(\"Enter values below:\")\n",
        "    num_features = st.sidebar.number_input(\"Number of features\", min_value=1, max_value=20, value=5)\n",
        "    user_input = {}\n",
        "    for i in range(num_features):\n",
        "        user_input[f\"feature_{i+1}\"] = st.sidebar.number_input(f\"Feature {i+1}\", value=0.0)\n",
        "    df = pd.DataFrame([user_input])\n",
        "    st.success(\"Manual input recorded!\")\n",
        "else:\n",
        "    st.warning(\"Please upload a CSV or enter values manually to proceed.\")\n",
        "    df = None\n",
        "\n",
        "# =====================\n",
        "# Analysis Section\n",
        "# =====================\n",
        "if df is not None:\n",
        "    st.subheader(\"Preview of Input Data\")\n",
        "    st.dataframe(df.head())\n",
        "\n",
        "    # ---- Classification (Conversion Prediction) ----\n",
        "    st.subheader(\"🔮 Conversion Prediction (Classification)\")\n",
        "    try:\n",
        "        y_pred_class = classifier.predict(df)\n",
        "        st.write(\"**Predicted Conversion:**\")\n",
        "        st.write(y_pred_class)\n",
        "\n",
        "        st.bar_chart(pd.Series(y_pred_class).value_counts())\n",
        "    except Exception as e:\n",
        "        st.error(f\"Classification failed: {e}\")\n",
        "\n",
        "    # ---- Regression (Revenue Estimation) ----\n",
        "    st.subheader(\"💰 Revenue Estimation (Regression)\")\n",
        "    try:\n",
        "        y_pred_reg = regressor.predict(df)\n",
        "        st.write(\"**Predicted Revenue:**\")\n",
        "        st.write(y_pred_reg)\n",
        "\n",
        "        st.line_chart(y_pred_reg)\n",
        "    except Exception as e:\n",
        "        st.error(f\"Regression failed: {e}\")\n",
        "\n",
        "    # ---- Clustering (Customer Segments) ----\n",
        "    st.subheader(\"👥 Customer Segmentation (Clustering)\")\n",
        "    try:\n",
        "        clusters = kmeans.predict(df)\n",
        "        df[\"Cluster\"] = clusters\n",
        "        st.write(\"Cluster Assignments:\")\n",
        "        st.dataframe(df)\n",
        "\n",
        "        # Plot cluster counts\n",
        "        cluster_counts = df[\"Cluster\"].value_counts()\n",
        "        st.bar_chart(cluster_counts)\n",
        "\n",
        "        # Scatter plot for first 2 features\n",
        "        if df.shape[1] >= 2:\n",
        "            fig, ax = plt.subplots()\n",
        "            sns.scatterplot(x=df.iloc[:, 0], y=df.iloc[:, 1], hue=df[\"Cluster\"], palette=\"Set2\", ax=ax)\n",
        "            plt.title(\"Cluster Visualization (First 2 Features)\")\n",
        "            st.pyplot(fig)\n",
        "    except Exception as e:\n",
        "        st.error(f\"Clustering failed: {e}\")\n",
        "\n",
        "    # ---- Additional Visualizations ----\n",
        "    st.subheader(\"📈 Data Visualizations\")\n",
        "    try:\n",
        "        st.write(\"Histogram of Numeric Features\")\n",
        "        st.bar_chart(df.select_dtypes(include=[np.number]).iloc[:, 0])\n",
        "    except:\n",
        "        st.warning(\"No numeric columns available for histogram.\")\n"
      ]
    },
    {
      "cell_type": "code",
      "source": [
        "import numpy as np\n",
        "print(np.__version__)\n"
      ],
      "metadata": {
        "colab": {
          "base_uri": "https://localhost:8080/"
        },
        "id": "gpMQfyWpLuWg",
        "outputId": "f12f78f8-7d82-4881-9f36-e2b3d8999dfe"
      },
      "execution_count": 10,
      "outputs": [
        {
          "output_type": "stream",
          "name": "stdout",
          "text": [
            "2.0.2\n"
          ]
        }
      ]
    }
  ]
}