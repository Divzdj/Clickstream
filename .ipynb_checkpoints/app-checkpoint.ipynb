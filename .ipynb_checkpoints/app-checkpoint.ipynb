{
  "nbformat": 4,
  "nbformat_minor": 0,
  "metadata": {
    "colab": {
      "provenance": []
    },
    "kernelspec": {
      "name": "python3",
      "display_name": "Python 3"
    },
    "language_info": {
      "name": "python"
    }
  },
  "cells": [
    {
      "cell_type": "code",
      "source": [
        "!pip install streamlit pyngrok scikit-learn seaborn\n",
        "\n"
      ],
      "metadata": {
        "colab": {
          "base_uri": "https://localhost:8080/"
        },
        "id": "Ylg_9hlk7-ex",
        "outputId": "f5bfd875-a86f-4b94-c9bf-36c8b15b64a6"
      },
      "execution_count": 2,
      "outputs": [
        {
          "output_type": "stream",
          "name": "stdout",
          "text": [
            "Collecting streamlit\n",
            "  Using cached streamlit-1.49.1-py3-none-any.whl.metadata (9.5 kB)\n",
            "Collecting pyngrok\n",
            "  Using cached pyngrok-7.3.0-py3-none-any.whl.metadata (8.1 kB)\n",
            "Requirement already satisfied: scikit-learn in /usr/local/lib/python3.12/dist-packages (1.6.1)\n",
            "Requirement already satisfied: seaborn in /usr/local/lib/python3.12/dist-packages (0.13.2)\n",
            "Requirement already satisfied: altair!=5.4.0,!=5.4.1,<6,>=4.0 in /usr/local/lib/python3.12/dist-packages (from streamlit) (5.5.0)\n",
            "Requirement already satisfied: blinker<2,>=1.5.0 in /usr/local/lib/python3.12/dist-packages (from streamlit) (1.9.0)\n",
            "Requirement already satisfied: cachetools<7,>=4.0 in /usr/local/lib/python3.12/dist-packages (from streamlit) (5.5.2)\n",
            "Requirement already satisfied: click<9,>=7.0 in /usr/local/lib/python3.12/dist-packages (from streamlit) (8.2.1)\n",
            "Requirement already satisfied: numpy<3,>=1.23 in /usr/local/lib/python3.12/dist-packages (from streamlit) (2.0.2)\n",
            "Requirement already satisfied: packaging<26,>=20 in /usr/local/lib/python3.12/dist-packages (from streamlit) (25.0)\n",
            "Requirement already satisfied: pandas<3,>=1.4.0 in /usr/local/lib/python3.12/dist-packages (from streamlit) (2.2.2)\n",
            "Requirement already satisfied: pillow<12,>=7.1.0 in /usr/local/lib/python3.12/dist-packages (from streamlit) (11.3.0)\n",
            "Requirement already satisfied: protobuf<7,>=3.20 in /usr/local/lib/python3.12/dist-packages (from streamlit) (5.29.5)\n",
            "Requirement already satisfied: pyarrow>=7.0 in /usr/local/lib/python3.12/dist-packages (from streamlit) (18.1.0)\n",
            "Requirement already satisfied: requests<3,>=2.27 in /usr/local/lib/python3.12/dist-packages (from streamlit) (2.32.4)\n",
            "Requirement already satisfied: tenacity<10,>=8.1.0 in /usr/local/lib/python3.12/dist-packages (from streamlit) (8.5.0)\n",
            "Requirement already satisfied: toml<2,>=0.10.1 in /usr/local/lib/python3.12/dist-packages (from streamlit) (0.10.2)\n",
            "Requirement already satisfied: typing-extensions<5,>=4.4.0 in /usr/local/lib/python3.12/dist-packages (from streamlit) (4.15.0)\n",
            "Requirement already satisfied: watchdog<7,>=2.1.5 in /usr/local/lib/python3.12/dist-packages (from streamlit) (6.0.0)\n",
            "Requirement already satisfied: gitpython!=3.1.19,<4,>=3.0.7 in /usr/local/lib/python3.12/dist-packages (from streamlit) (3.1.45)\n",
            "Collecting pydeck<1,>=0.8.0b4 (from streamlit)\n",
            "  Using cached pydeck-0.9.1-py2.py3-none-any.whl.metadata (4.1 kB)\n",
            "Requirement already satisfied: tornado!=6.5.0,<7,>=6.0.3 in /usr/local/lib/python3.12/dist-packages (from streamlit) (6.4.2)\n",
            "Requirement already satisfied: PyYAML>=5.1 in /usr/local/lib/python3.12/dist-packages (from pyngrok) (6.0.2)\n",
            "Requirement already satisfied: scipy>=1.6.0 in /usr/local/lib/python3.12/dist-packages (from scikit-learn) (1.16.1)\n",
            "Requirement already satisfied: joblib>=1.2.0 in /usr/local/lib/python3.12/dist-packages (from scikit-learn) (1.5.2)\n",
            "Requirement already satisfied: threadpoolctl>=3.1.0 in /usr/local/lib/python3.12/dist-packages (from scikit-learn) (3.6.0)\n",
            "Requirement already satisfied: matplotlib!=3.6.1,>=3.4 in /usr/local/lib/python3.12/dist-packages (from seaborn) (3.10.0)\n",
            "Requirement already satisfied: jinja2 in /usr/local/lib/python3.12/dist-packages (from altair!=5.4.0,!=5.4.1,<6,>=4.0->streamlit) (3.1.6)\n",
            "Requirement already satisfied: jsonschema>=3.0 in /usr/local/lib/python3.12/dist-packages (from altair!=5.4.0,!=5.4.1,<6,>=4.0->streamlit) (4.25.1)\n",
            "Requirement already satisfied: narwhals>=1.14.2 in /usr/local/lib/python3.12/dist-packages (from altair!=5.4.0,!=5.4.1,<6,>=4.0->streamlit) (2.4.0)\n",
            "Requirement already satisfied: gitdb<5,>=4.0.1 in /usr/local/lib/python3.12/dist-packages (from gitpython!=3.1.19,<4,>=3.0.7->streamlit) (4.0.12)\n",
            "Requirement already satisfied: contourpy>=1.0.1 in /usr/local/lib/python3.12/dist-packages (from matplotlib!=3.6.1,>=3.4->seaborn) (1.3.3)\n",
            "Requirement already satisfied: cycler>=0.10 in /usr/local/lib/python3.12/dist-packages (from matplotlib!=3.6.1,>=3.4->seaborn) (0.12.1)\n",
            "Requirement already satisfied: fonttools>=4.22.0 in /usr/local/lib/python3.12/dist-packages (from matplotlib!=3.6.1,>=3.4->seaborn) (4.59.2)\n",
            "Requirement already satisfied: kiwisolver>=1.3.1 in /usr/local/lib/python3.12/dist-packages (from matplotlib!=3.6.1,>=3.4->seaborn) (1.4.9)\n",
            "Requirement already satisfied: pyparsing>=2.3.1 in /usr/local/lib/python3.12/dist-packages (from matplotlib!=3.6.1,>=3.4->seaborn) (3.2.3)\n",
            "Requirement already satisfied: python-dateutil>=2.7 in /usr/local/lib/python3.12/dist-packages (from matplotlib!=3.6.1,>=3.4->seaborn) (2.9.0.post0)\n",
            "Requirement already satisfied: pytz>=2020.1 in /usr/local/lib/python3.12/dist-packages (from pandas<3,>=1.4.0->streamlit) (2025.2)\n",
            "Requirement already satisfied: tzdata>=2022.7 in /usr/local/lib/python3.12/dist-packages (from pandas<3,>=1.4.0->streamlit) (2025.2)\n",
            "Requirement already satisfied: charset_normalizer<4,>=2 in /usr/local/lib/python3.12/dist-packages (from requests<3,>=2.27->streamlit) (3.4.3)\n",
            "Requirement already satisfied: idna<4,>=2.5 in /usr/local/lib/python3.12/dist-packages (from requests<3,>=2.27->streamlit) (3.10)\n",
            "Requirement already satisfied: urllib3<3,>=1.21.1 in /usr/local/lib/python3.12/dist-packages (from requests<3,>=2.27->streamlit) (2.5.0)\n",
            "Requirement already satisfied: certifi>=2017.4.17 in /usr/local/lib/python3.12/dist-packages (from requests<3,>=2.27->streamlit) (2025.8.3)\n",
            "Requirement already satisfied: smmap<6,>=3.0.1 in /usr/local/lib/python3.12/dist-packages (from gitdb<5,>=4.0.1->gitpython!=3.1.19,<4,>=3.0.7->streamlit) (5.0.2)\n",
            "Requirement already satisfied: MarkupSafe>=2.0 in /usr/local/lib/python3.12/dist-packages (from jinja2->altair!=5.4.0,!=5.4.1,<6,>=4.0->streamlit) (3.0.2)\n",
            "Requirement already satisfied: attrs>=22.2.0 in /usr/local/lib/python3.12/dist-packages (from jsonschema>=3.0->altair!=5.4.0,!=5.4.1,<6,>=4.0->streamlit) (25.3.0)\n",
            "Requirement already satisfied: jsonschema-specifications>=2023.03.6 in /usr/local/lib/python3.12/dist-packages (from jsonschema>=3.0->altair!=5.4.0,!=5.4.1,<6,>=4.0->streamlit) (2025.9.1)\n",
            "Requirement already satisfied: referencing>=0.28.4 in /usr/local/lib/python3.12/dist-packages (from jsonschema>=3.0->altair!=5.4.0,!=5.4.1,<6,>=4.0->streamlit) (0.36.2)\n",
            "Requirement already satisfied: rpds-py>=0.7.1 in /usr/local/lib/python3.12/dist-packages (from jsonschema>=3.0->altair!=5.4.0,!=5.4.1,<6,>=4.0->streamlit) (0.27.1)\n",
            "Requirement already satisfied: six>=1.5 in /usr/local/lib/python3.12/dist-packages (from python-dateutil>=2.7->matplotlib!=3.6.1,>=3.4->seaborn) (1.17.0)\n",
            "Using cached streamlit-1.49.1-py3-none-any.whl (10.0 MB)\n",
            "Using cached pyngrok-7.3.0-py3-none-any.whl (25 kB)\n",
            "Using cached pydeck-0.9.1-py2.py3-none-any.whl (6.9 MB)\n",
            "Installing collected packages: pyngrok, pydeck, streamlit\n",
            "Successfully installed pydeck-0.9.1 pyngrok-7.3.0 streamlit-1.49.1\n"
          ]
        }
      ]
    },
    {
      "cell_type": "code",
      "execution_count": 1,
      "metadata": {
        "colab": {
          "base_uri": "https://localhost:8080/"
        },
        "id": "P51aHZIkiZKE",
        "outputId": "a46e23f1-ff4d-4241-d483-9f23d16dd8c2"
      },
      "outputs": [
        {
          "output_type": "stream",
          "name": "stdout",
          "text": [
            "Overwriting /content/drive/MyDrive/GUVI/Miniproject4/app.py\n"
          ]
        }
      ],
      "source": [
        "%%writefile /content/drive/MyDrive/GUVI/Miniproject4/app.py\n",
        "\n",
        "import streamlit as st\n",
        "import pandas as pd\n",
        "import numpy as np\n",
        "import pickle\n",
        "import matplotlib.pyplot as plt\n",
        "import seaborn as sns\n",
        "import joblib\n",
        "\n",
        "# Load models\n",
        "classifier = joblib.load(\"best_classifier.joblib\")\n",
        "regressor = joblib.load(\"best_regressor.joblib\")\n",
        "kmeans_model = joblib.load(\"kmeans_model.joblib\")\n",
        "\n",
        "\n",
        "st.set_page_config(page_title=\"Customer Analytics App\", layout=\"wide\")\n",
        "\n",
        "st.title(\"📊 Customer Analytics Web Application\")\n",
        "\n",
        "st.sidebar.header(\"Upload / Input Data\")\n",
        "\n",
        "# =====================\n",
        "# Data Upload Section\n",
        "# =====================\n",
        "uploaded_file = st.sidebar.file_uploader(\"Upload a CSV file\", type=[\"csv\"])\n",
        "manual_input = st.sidebar.checkbox(\"Enter data manually\")\n",
        "\n",
        "if uploaded_file:\n",
        "    df = pd.read_csv(uploaded_file)\n",
        "    st.success(\"CSV file uploaded successfully!\")\n",
        "elif manual_input:\n",
        "    st.sidebar.write(\"Enter values below:\")\n",
        "    num_features = st.sidebar.number_input(\"Number of features\", min_value=1, max_value=20, value=5)\n",
        "    user_input = {}\n",
        "    for i in range(num_features):\n",
        "        user_input[f\"feature_{i+1}\"] = st.sidebar.number_input(f\"Feature {i+1}\", value=0.0)\n",
        "    df = pd.DataFrame([user_input])\n",
        "    st.success(\"Manual input recorded!\")\n",
        "else:\n",
        "    st.warning(\"Please upload a CSV or enter values manually to proceed.\")\n",
        "    df = None\n",
        "\n",
        "# =====================\n",
        "# Analysis Section\n",
        "# =====================\n",
        "if df is not None:\n",
        "    st.subheader(\"Preview of Input Data\")\n",
        "    st.dataframe(df.head())\n",
        "\n",
        "    # ---- Classification (Conversion Prediction) ----\n",
        "    st.subheader(\"🔮 Conversion Prediction (Classification)\")\n",
        "    try:\n",
        "        y_pred_class = classifier.predict(df)\n",
        "        st.write(\"**Predicted Conversion:**\")\n",
        "        st.write(y_pred_class)\n",
        "\n",
        "        st.bar_chart(pd.Series(y_pred_class).value_counts())\n",
        "    except Exception as e:\n",
        "        st.error(f\"Classification failed: {e}\")\n",
        "\n",
        "    # ---- Regression (Revenue Estimation) ----\n",
        "    st.subheader(\"💰 Revenue Estimation (Regression)\")\n",
        "    try:\n",
        "        y_pred_reg = regressor.predict(df)\n",
        "        st.write(\"**Predicted Revenue:**\")\n",
        "        st.write(y_pred_reg)\n",
        "\n",
        "        st.line_chart(y_pred_reg)\n",
        "    except Exception as e:\n",
        "        st.error(f\"Regression failed: {e}\")\n",
        "\n",
        "    # ---- Clustering (Customer Segments) ----\n",
        "    st.subheader(\"👥 Customer Segmentation (Clustering)\")\n",
        "    try:\n",
        "        clusters = kmeans.predict(df)\n",
        "        df[\"Cluster\"] = clusters\n",
        "        st.write(\"Cluster Assignments:\")\n",
        "        st.dataframe(df)\n",
        "\n",
        "        # Plot cluster counts\n",
        "        cluster_counts = df[\"Cluster\"].value_counts()\n",
        "        st.bar_chart(cluster_counts)\n",
        "\n",
        "        # Scatter plot for first 2 features\n",
        "        if df.shape[1] >= 2:\n",
        "            fig, ax = plt.subplots()\n",
        "            sns.scatterplot(x=df.iloc[:, 0], y=df.iloc[:, 1], hue=df[\"Cluster\"], palette=\"Set2\", ax=ax)\n",
        "            plt.title(\"Cluster Visualization (First 2 Features)\")\n",
        "            st.pyplot(fig)\n",
        "    except Exception as e:\n",
        "        st.error(f\"Clustering failed: {e}\")\n",
        "\n",
        "    # ---- Additional Visualizations ----\n",
        "    st.subheader(\"📈 Data Visualizations\")\n",
        "    try:\n",
        "        st.write(\"Histogram of Numeric Features\")\n",
        "        st.bar_chart(df.select_dtypes(include=[np.number]).iloc[:, 0])\n",
        "    except:\n",
        "        st.warning(\"No numeric columns available for histogram.\")\n"
      ]
    },
    {
      "cell_type": "code",
      "source": [
        "import numpy as np\n",
        "print(np.__version__)\n"
      ],
      "metadata": {
        "colab": {
          "base_uri": "https://localhost:8080/"
        },
        "id": "gpMQfyWpLuWg",
        "outputId": "f12f78f8-7d82-4881-9f36-e2b3d8999dfe"
      },
      "execution_count": 10,
      "outputs": [
        {
          "output_type": "stream",
          "name": "stdout",
          "text": [
            "2.0.2\n"
          ]
        }
      ]
    }
  ]
}